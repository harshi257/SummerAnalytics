{
  "nbformat": 4,
  "nbformat_minor": 0,
  "metadata": {
    "colab": {
      "provenance": []
    },
    "kernelspec": {
      "name": "python3",
      "display_name": "Python 3"
    },
    "language_info": {
      "name": "python"
    }
  },
  "cells": [
    {
      "cell_type": "code",
      "execution_count": null,
      "metadata": {
        "id": "g-OZx7dBkFZe"
      },
      "outputs": [],
      "source": [
        "!pip install -U pathway\n",
        "!pip install -U bokeh\n",
        " # Installing pathway"
      ]
    },
    {
      "cell_type": "code",
      "source": [
        "#importing all important libraries\n",
        "import numpy as np\n",
        "import pandas as pd\n",
        "import datetime\n",
        "from datetime import datetime\n",
        "import pathway as pw\n",
        "import bokeh.plotting\n",
        "import panel as pn\n",
        "import matplotlib.pyplot as plt\n",
        "from datetime import timedelta\n",
        "from bokeh.plotting import figure, show, output_notebook\n",
        "from bokeh.models import ColumnDataSource\n",
        "output_notebook()\n"
      ],
      "metadata": {
        "id": "WObbuHYckTvv"
      },
      "execution_count": null,
      "outputs": []
    },
    {
      "cell_type": "code",
      "source": [
        "df = pd.read_csv('/content/dataset.csv')\n",
        "df"
      ],
      "metadata": {
        "id": "jcBXGtdlkf1Y"
      },
      "execution_count": null,
      "outputs": []
    },
    {
      "cell_type": "code",
      "source": [
        "df['QueueLength'].max()"
      ],
      "metadata": {
        "id": "FMCTA36z2UW3"
      },
      "execution_count": null,
      "outputs": []
    },
    {
      "cell_type": "code",
      "source": [
        "# Combine the 'LastUpdatedDate' and 'LastUpdatedTime' columns into a single datetime column\n",
        "df['Timestamp'] = pd.to_datetime(df['LastUpdatedDate'] + ' ' + df['LastUpdatedTime'],\n",
        "                                  format='%d-%m-%Y %H:%M:%S')\n",
        "\n",
        "# Sort the DataFrame by the new 'Timestamp' column and reset the index\n",
        "df = df.sort_values('Timestamp').reset_index(drop=True)"
      ],
      "metadata": {
        "id": "ef8XVVMgk2YR"
      },
      "execution_count": null,
      "outputs": []
    },
    {
      "cell_type": "code",
      "source": [
        "#encoding vehicle type ( bike : 0.7, car : 1, truck:1.5)\n",
        "vehicle_type_mapping = {'bike':0.7, 'car': 1, 'truck': 1.5,'cycle':0.5}\n",
        "df['VehicleTypeEncoded'] = df['VehicleType'].map(vehicle_type_mapping).fillna(-1).astype(float)\n",
        "#encoding traffic condition\n",
        "traffic_condition_mapping = {'low': -0.5, 'average': 1, 'high': 1.5}\n",
        "df['TrafficConditionEncoded'] = df['TrafficConditionNearby'].map(traffic_condition_mapping).fillna(-1).astype(float)\n",
        "display(df.tail())"
      ],
      "metadata": {
        "id": "bjePP-WuXlN-"
      },
      "execution_count": null,
      "outputs": []
    },
    {
      "cell_type": "markdown",
      "source": [
        "MODEL 1 - BASELINE LINEAR MODEL"
      ],
      "metadata": {
        "id": "sSPkzRRXlDNj"
      }
    },
    {
      "cell_type": "code",
      "source": [
        "import os\n",
        "#create a file with only necessary columns i.e. occupancy, timestamp and capacity\n",
        "# Create output directory\n",
        "os.makedirs(\"garages\", exist_ok=True)\n",
        "\n",
        "# Group by unique garage locations (Lat, Long)\n",
        "for (lat, lon), group in df.groupby([\"Latitude\", \"Longitude\"]):\n",
        "    filename = f\"garages/garage_{lat:.5f}_{lon:.5f}.csv\"\n",
        "    group.to_csv(filename, index=False)\n",
        "\n",
        "print(\"✅ Done splitting into garage-wise files.\")"
      ],
      "metadata": {
        "id": "O9Mz3etxk8jR"
      },
      "execution_count": null,
      "outputs": []
    },
    {
      "cell_type": "code",
      "source": [
        "from datetime import timedelta\n",
        "import math\n",
        "import os\n",
        "import pathway as pw\n",
        "import panel as pn\n",
        "import bokeh.plotting\n",
        "\n",
        "# Enable Panel\n",
        "pn.extension()\n",
        "\n",
        "# List of all garage files\n",
        "garage_files = os.listdir(\"garages\")\n",
        "\n",
        "# Container for all visualizations\n",
        "visualizations = []\n",
        "\n",
        "# Loop over each garage CSV\n",
        "for file in sorted(garage_files):\n",
        "    path = f\"garages/{file}\"\n",
        "    print(f\"▶️ Running for: {file}\")\n",
        "\n",
        "    class Schema(pw.Schema):\n",
        "        Timestamp: str\n",
        "        Occupancy: int\n",
        "        Capacity: int\n",
        "\n",
        "    data = pw.demo.replay_csv(path, schema=Schema, input_rate=100)\n",
        "\n",
        "    # Parse time and extract date\n",
        "    format = \"%Y-%m-%d %H:%M:%S\"\n",
        "    data_with_time = data.with_columns(\n",
        "        time = data.Timestamp.dt.strptime(format),\n",
        "        date = data.Timestamp.dt.strptime(format).dt.strftime(\"%Y-%m-%dT00:00:00\")\n",
        "    )\n",
        "\n",
        "    # Rolling window calculations\n",
        "    window = (\n",
        "        data_with_time.windowby(\n",
        "            pw.this.time,\n",
        "            instance=pw.this.date,\n",
        "            window=pw.temporal.tumbling(timedelta(minutes=30)),\n",
        "            behavior=pw.temporal.exactly_once_behavior()\n",
        "        )\n",
        "        .reduce(\n",
        "            t=pw.this._pw_window_end,\n",
        "            avg_occ=pw.reducers.avg(pw.this.Occupancy),\n",
        "            current_occ = pw.reducers.max(pw.this.Occupancy),\n",
        "            cap=pw.reducers.max(pw.this.Capacity),\n",
        "        )\n",
        "    )\n",
        "\n",
        "    # Shift previous window for lag comparison\n",
        "    prev_window = window.with_columns(t=pw.this.t + timedelta(minutes=30))\n",
        "\n",
        "    # Join current and previous window\n",
        "    joined = window.join(\n",
        "        prev_window,\n",
        "        pw.this.t == pw.right.t,\n",
        "        how=pw.JoinMode.LEFT\n",
        "    ).select(\n",
        "        window_end = pw.this.t,\n",
        "        avg_occ_now = pw.left.avg_occ,\n",
        "        avg_occ_prev = pw.right.avg_occ,\n",
        "        cap = pw.left.cap,\n",
        "        current_occ = pw.left.current_occ\n",
        "    )\n",
        "\n",
        "    # Fill missing previous occupancy with current\n",
        "    joined = joined.with_columns(\n",
        "        avg_occ_prev=pw.if_else(\n",
        "            pw.this.avg_occ_prev.is_none(),\n",
        "            pw.this.avg_occ_now,\n",
        "            pw.this.avg_occ_prev\n",
        "        )\n",
        "    )\n",
        "\n",
        "    # Compute delta and load factor\n",
        "    joined = joined.with_columns(\n",
        "        delta_occ=(pw.this.avg_occ_now - pw.this.avg_occ_prev) / pw.this.cap,\n",
        "        load_factor = pw.this.current_occ / pw.this.cap\n",
        "    )\n",
        "\n",
        "    # Final price\n",
        "    alpha = 10\n",
        "    beta = 4.0\n",
        "    base_price = 10\n",
        "    final_price_table = joined.with_columns(\n",
        "        price=base_price + alpha * pw.this.delta_occ + beta * pw.this.load_factor\n",
        "    ).rename_columns(timestam = \"window_end\")\n",
        "\n",
        "    # Plotting function\n",
        "    def price_plotter(source):\n",
        "        fig = bokeh.plotting.figure(\n",
        "            height=350,\n",
        "            width=700,\n",
        "            title=f\"Dynamic Pricing - {file}\",\n",
        "            x_axis_type=\"datetime\",\n",
        "        )\n",
        "        fig.line(\"timestam\", \"price\", source=source, line_width=2, color=\"green\")\n",
        "        fig.circle(\"timestam\", \"price\", source=source, size=6, color=\"red\")\n",
        "        return fig\n",
        "\n",
        "    # Append graph\n",
        "    viz = final_price_table.plot(price_plotter, sorting_col=\"timestam\")\n",
        "    visualizations.append(viz)\n",
        "\n",
        "# Layout all garage graphs in a column\n",
        "pn.Column(*visualizations).servable()"
      ],
      "metadata": {
        "id": "JgRZU_ieeRPe"
      },
      "execution_count": null,
      "outputs": []
    },
    {
      "cell_type": "code",
      "source": [
        "pw.run()"
      ],
      "metadata": {
        "id": "BVGWLcZve7xN"
      },
      "execution_count": null,
      "outputs": []
    },
    {
      "cell_type": "markdown",
      "source": [
        "MODEL 2"
      ],
      "metadata": {
        "id": "WfQbxV_66PoD"
      }
    },
    {
      "cell_type": "code",
      "source": [
        "from datetime import timedelta\n",
        "import pathway as pw\n",
        "import panel as pn\n",
        "import bokeh.plotting\n",
        "import math\n",
        "import os\n",
        "\n",
        "# Setup Panel extension\n",
        "pn.extension()\n",
        "\n",
        "# Constants\n",
        "max_queue = 15\n",
        "max_traffic = 2\n",
        "base_price = 10.0\n",
        "\n",
        "# Plot container\n",
        "panels = []\n",
        "\n",
        "# Loop over each garage file\n",
        "garage_dir = \"garages\"\n",
        "garage_files = os.listdir(garage_dir)\n",
        "\n",
        "for file in sorted(garage_files):\n",
        "    path = f\"{garage_dir}/{file}\"\n",
        "    print(f\"▶️ Running for: {file}\")\n",
        "\n",
        "    class Schema(pw.Schema):\n",
        "        Timestamp: str\n",
        "        Occupancy: int\n",
        "        Capacity: int\n",
        "        IsSpecialDay: int\n",
        "        TrafficConditionEncoded: float\n",
        "        VehicleTypeEncoded: float\n",
        "        QueueLength: int\n",
        "\n",
        "    data = pw.demo.replay_csv(path, schema=Schema, input_rate=100)\n",
        "\n",
        "    format = \"%Y-%m-%d %H:%M:%S\"\n",
        "    data_with_time = data.with_columns(\n",
        "        time = data.Timestamp.dt.strptime(format),\n",
        "        date = data.Timestamp.dt.strptime(format).dt.strftime(\"%Y-%m-%dT00:00:00\")\n",
        "    )\n",
        "#define window\n",
        "    window = (\n",
        "        data_with_time.windowby(\n",
        "            pw.this.time,\n",
        "            instance=pw.this.date,\n",
        "            window=pw.temporal.tumbling(timedelta(minutes = 30)),\n",
        "            behavior=pw.temporal.exactly_once_behavior()\n",
        "        )\n",
        "        .reduce(\n",
        "            t = pw.this._pw_window_end,\n",
        "            avg_occ = pw.reducers.avg(pw.this.Occupancy),\n",
        "            current_occ = pw.reducers.max(pw.this.Occupancy),\n",
        "            cap = pw.reducers.max(pw.this.Capacity),\n",
        "            is_special_day = pw.reducers.max(pw.this.IsSpecialDay),\n",
        "            traffic_condition = pw.reducers.max(pw.this.TrafficConditionEncoded),\n",
        "            VehicleTypeEncoded = pw.reducers.max(pw.this.VehicleTypeEncoded),\n",
        "            queue_length = pw.reducers.max(pw.this.QueueLength)\n",
        "        )\n",
        "    )\n",
        "#for savin previous occupancy\n",
        "    prev_window = window.with_columns(t = pw.this.t + timedelta(minutes=30))\n",
        "\n",
        "    joined = window.join(\n",
        "        prev_window,\n",
        "        pw.this.t == pw.right.t,\n",
        "        how=pw.JoinMode.LEFT\n",
        "    ).select(\n",
        "        window_end = pw.this.t,\n",
        "        avg_occ_now = pw.left.avg_occ,\n",
        "        cap = pw.left.cap,\n",
        "        current_occ = pw.left.current_occ,\n",
        "        prev_occupancy = pw.right.avg_occ,\n",
        "        is_special_day = pw.left.is_special_day,\n",
        "        traffic_condition = pw.left.traffic_condition,\n",
        "        VehicleTypeEncoded = pw.left.VehicleTypeEncoded,\n",
        "        queue_length = pw.left.queue_length\n",
        "    )\n",
        "\n",
        "    joined = joined.with_columns(\n",
        "        prev_occupancy_clean = pw.if_else(\n",
        "            pw.this.prev_occupancy.is_none(),\n",
        "            pw.this.current_occ,\n",
        "            pw.this.prev_occupancy\n",
        "        )\n",
        "    )\n",
        "\n",
        "    joined = joined.with_columns(\n",
        "        delta = (pw.this.current_occ - pw.this.prev_occupancy_clean) / pw.this.cap,\n",
        "        occupancy_rate = pw.this.current_occ / pw.this.cap\n",
        "    )\n",
        "#feature engineering\n",
        "    joined = joined.with_columns(\n",
        "        f_occ = pw.apply(lambda x: 1 / (1 + math.exp(-10 * (x - 1))), pw.this.occupancy_rate),\n",
        "        f_queue_norm = pw.apply(lambda x: math.log1p(x) / math.log1p(max_queue), pw.this.queue_length),\n",
        "        f_traffic = pw.apply(lambda x: math.log1p(x) / math.log1p(max_traffic), pw.this.traffic_condition)\n",
        "    )\n",
        "\n",
        "#defining demand\n",
        "    joined = joined.with_columns(\n",
        "        demand_factor = pw.apply(\n",
        "            lambda f_occ, f_queue, f_traffic, delta, is_special_day, vehicle_weight : (\n",
        "                (3 * f_occ + 1.5 * f_queue + 1.2 * f_traffic + 1.3 * delta) *\n",
        "                (is_special_day + 1) * vehicle_weight\n",
        "            ),\n",
        "            pw.this.f_occ,\n",
        "            pw.this.f_queue_norm,\n",
        "            pw.this.f_traffic,\n",
        "            pw.this.delta,\n",
        "            pw.this.is_special_day,\n",
        "            pw.this.VehicleTypeEncoded\n",
        "        )\n",
        "    )\n",
        "    joined = joined.with_columns(\n",
        "        price = pw.apply(\n",
        "            lambda demand: base_price * (1 + 0.06 * demand),\n",
        "            pw.this.demand_factor\n",
        "        )\n",
        "    )\n",
        "#defining the pricing function\n",
        "    final_table = joined.select(\n",
        "        window_end = pw.this.window_end,\n",
        "        price = pw.this.price\n",
        "    ).rename_columns(timestam=\"window_end\")\n",
        "#plotting using bokeh\n",
        "    def price_plotter(source):\n",
        "        fig = bokeh.plotting.figure(\n",
        "            height=300,\n",
        "            width=800,\n",
        "            title=f\"Dynamic Price: {file}\",\n",
        "            x_axis_type=\"datetime\"\n",
        "        )\n",
        "        fig.line(\"timestam\", \"price\", source=source, line_width=2, color=\"navy\")\n",
        "        fig.circle(\"timestam\", \"price\", source=source, size=5, color=\"red\")\n",
        "        return fig\n",
        "\n",
        "    panels.append(final_table.plot(price_plotter, sorting_col=\"timestam\"))\n",
        "\n",
        "# Show all graphs in a scrollable column\n",
        "pn.Column(*panels).servable()\n",
        "\n",
        "\n"
      ],
      "metadata": {
        "id": "Ayzo4G3TgYeg"
      },
      "execution_count": null,
      "outputs": []
    },
    {
      "cell_type": "code",
      "source": [
        "#run\n",
        "pw.run()"
      ],
      "metadata": {
        "id": "eS4yVjX2i0X8"
      },
      "execution_count": null,
      "outputs": []
    },
    {
      "cell_type": "markdown",
      "source": [
        "Defining my demand => It will be based on 5 factors\n",
        "I will design a demand function and normalize it."
      ],
      "metadata": {
        "id": "nFz7G7mAKNV_"
      }
    }
  ]
}